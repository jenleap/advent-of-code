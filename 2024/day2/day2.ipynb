{
 "cells": [
  {
   "cell_type": "markdown",
   "metadata": {},
   "source": [
    "PART ONE: How many reports are safe?"
   ]
  },
  {
   "cell_type": "code",
   "execution_count": null,
   "metadata": {},
   "outputs": [
    {
     "name": "stdout",
     "output_type": "stream",
     "text": [
      "549\n"
     ]
    }
   ],
   "source": [
    "with open(\"input.txt\", \"r+\") as f:\n",
    "    safeReports = 0\n",
    "    for report in f:\n",
    "        levels = report.split(\" \")\n",
    "        difference = []\n",
    "        for i in range(len(levels) - 1):\n",
    "            difference.append(int(levels[i]) - int(levels[i + 1]))\n",
    "        if all(4 > diff > 0 for diff in difference) or all(-4 < diff < 0 for diff in difference):\n",
    "            safeReports += 1\n",
    "    print(safeReports)\n",
    "            "
   ]
  },
  {
   "cell_type": "markdown",
   "metadata": {},
   "source": [
    "PART TWO: How many reports are safe with a single bad level?"
   ]
  },
  {
   "cell_type": "code",
   "execution_count": 64,
   "metadata": {},
   "outputs": [
    {
     "name": "stdout",
     "output_type": "stream",
     "text": [
      "589\n"
     ]
    }
   ],
   "source": [
    "def isSafeReport(report):\n",
    "    difference = []\n",
    "    for i in range(len(report) - 1):\n",
    "        difference.append(int(report[i]) - int(report[i + 1]))\n",
    "    return all(4 > diff > 0 for diff in difference) or all(-4 < diff < 0 for diff in difference)\n",
    "\n",
    "with open(\"input.txt\", \"r+\") as f:\n",
    "    safeReports = 0\n",
    "    for report in f:\n",
    "        levels = report.split(\" \")\n",
    "        if isSafeReport(levels):\n",
    "            safeReports += 1\n",
    "        else:\n",
    "            for i in range(len(levels)):\n",
    "                copyLevels = list(levels)\n",
    "                copyLevels.pop(i)\n",
    "                if isSafeReport(copyLevels):\n",
    "                    safeReports += 1\n",
    "                    break\n",
    "                           \n",
    "    print(safeReports)"
   ]
  }
 ],
 "metadata": {
  "kernelspec": {
   "display_name": "Python 3",
   "language": "python",
   "name": "python3"
  },
  "language_info": {
   "codemirror_mode": {
    "name": "ipython",
    "version": 3
   },
   "file_extension": ".py",
   "mimetype": "text/x-python",
   "name": "python",
   "nbconvert_exporter": "python",
   "pygments_lexer": "ipython3",
   "version": "3.12.4"
  }
 },
 "nbformat": 4,
 "nbformat_minor": 2
}
