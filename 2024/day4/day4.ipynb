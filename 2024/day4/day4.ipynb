{
 "cells": [
  {
   "cell_type": "markdown",
   "metadata": {},
   "source": [
    "PART ONE: How many times does XMAS appear?"
   ]
  },
  {
   "cell_type": "code",
   "execution_count": null,
   "metadata": {},
   "outputs": [
    {
     "name": "stdout",
     "output_type": "stream",
     "text": [
      "2493\n"
     ]
    }
   ],
   "source": [
    "with open(\"input.txt\", \"r+\") as f:\n",
    "    grid = []\n",
    "    xmasCount = 0\n",
    "    for row in f:\n",
    "        grid.append(list(row.strip()))\n",
    "    \n",
    "    maxWidth = len(grid)\n",
    "    maxHeight = len(grid[0])\n",
    "    padding = 2\n",
    "    maxI = maxWidth - 3\n",
    "    maxJ = maxHeight - 3\n",
    "    for i in range(maxWidth):\n",
    "        for j in range(maxHeight):\n",
    "            if grid[i][j] == \"X\":\n",
    "                if j < maxJ and grid[i][j + 1] == \"M\" and grid[i][j + 2] == \"A\" and grid[i][j + 3] == \"S\":\n",
    "                    xmasCount += 1\n",
    "                if j > padding and grid[i][j - 1] == \"M\" and grid[i][j - 2] == \"A\" and grid[i][j - 3] == \"S\":\n",
    "                    xmasCount += 1\n",
    "                if i < maxI and grid[i + 1][j] == \"M\" and grid[i + 2][j] == \"A\" and grid[i + 3][j] == \"S\":\n",
    "                    xmasCount += 1\n",
    "                if i > padding and grid[i - 1][j] == \"M\" and grid[i - 2][j] == \"A\" and grid[i - 3][j] == \"S\":\n",
    "                    xmasCount += 1\n",
    "                if i < maxI and j < maxJ and grid[i + 1][j + 1] == \"M\" and grid[i + 2][j + 2] == \"A\" and grid[i + 3][j + 3] == \"S\":\n",
    "                    xmasCount += 1\n",
    "                if i > padding and j > padding and grid[i - 1][j - 1] == \"M\" and grid[i - 2][j - 2] == \"A\" and grid[i - 3][j - 3] == \"S\":\n",
    "                    xmasCount += 1\n",
    "                if i < maxI and j > padding and grid[i + 1][j - 1] == \"M\" and grid[i + 2][j - 2] == \"A\" and grid[i + 3][j - 3] == \"S\":\n",
    "                    xmasCount += 1\n",
    "                if i > padding and j < maxJ and grid[i - 1][j + 1] == \"M\" and grid[i - 2][j + 2] == \"A\" and grid[i - 3][j + 3] == \"S\":\n",
    "                    xmasCount += 1\n",
    "    \n",
    "    print(xmasCount)"
   ]
  },
  {
   "cell_type": "markdown",
   "metadata": {},
   "source": [
    "PART TWO: How many times does an X-MAS appear?"
   ]
  },
  {
   "cell_type": "code",
   "execution_count": 63,
   "metadata": {},
   "outputs": [
    {
     "name": "stdout",
     "output_type": "stream",
     "text": [
      "1890\n"
     ]
    }
   ],
   "source": [
    "with open(\"input.txt\", \"r+\") as f:\n",
    "    grid = []\n",
    "    xmasCount = 0\n",
    "    for row in f:\n",
    "        grid.append(list(row.strip()))\n",
    "    \n",
    "    maxWidth = len(grid) - 1\n",
    "    maxHeight = len(grid[0]) -1\n",
    "\n",
    "    for i in range(1, maxWidth):\n",
    "        for j in range(1, maxHeight):\n",
    "            if grid[i][j] == \"A\":\n",
    "                if grid[i - 1][j - 1] == \"M\" and grid[i - 1][j + 1] == \"M\" and grid[i + 1][j - 1] == \"S\" and grid[i + 1][j + 1] == \"S\":\n",
    "                    xmasCount += 1\n",
    "                elif grid[i - 1][j - 1] == \"M\" and grid[i - 1][j + 1] == \"S\" and grid[i + 1][j - 1] == \"M\" and grid[i + 1][j + 1] == \"S\":\n",
    "                    xmasCount += 1\n",
    "                elif grid[i - 1][j - 1] == \"S\" and grid[i - 1][j + 1] == \"M\" and grid[i + 1][j - 1] == \"S\" and grid[i + 1][j + 1] == \"M\":\n",
    "                    xmasCount += 1\n",
    "                elif grid[i - 1][j - 1] == \"S\" and grid[i - 1][j + 1] == \"S\" and grid[i + 1][j - 1] == \"M\" and grid[i + 1][j + 1] == \"M\":\n",
    "                    xmasCount += 1\n",
    "                \n",
    "    print(xmasCount)"
   ]
  }
 ],
 "metadata": {
  "kernelspec": {
   "display_name": "Python 3",
   "language": "python",
   "name": "python3"
  },
  "language_info": {
   "codemirror_mode": {
    "name": "ipython",
    "version": 3
   },
   "file_extension": ".py",
   "mimetype": "text/x-python",
   "name": "python",
   "nbconvert_exporter": "python",
   "pygments_lexer": "ipython3",
   "version": "3.12.4"
  }
 },
 "nbformat": 4,
 "nbformat_minor": 2
}
