{
 "cells": [
  {
   "cell_type": "markdown",
   "metadata": {},
   "source": [
    "PART ONE: What is the total distance between the left and right lists?"
   ]
  },
  {
   "cell_type": "code",
   "execution_count": 3,
   "metadata": {},
   "outputs": [
    {
     "name": "stdout",
     "output_type": "stream",
     "text": [
      "1580061\n"
     ]
    }
   ],
   "source": [
    "with open(\"input.txt\", \"r+\") as f:\n",
    "    leftList = []\n",
    "    rightList = []\n",
    "\n",
    "    for line in f:\n",
    "        rowDetails = line.split(\"  \")\n",
    "        leftList.append(int(rowDetails[0]))\n",
    "        rightList.append(int(rowDetails[1]))\n",
    "    \n",
    "    leftList.sort()\n",
    "    rightList.sort()\n",
    "\n",
    "    distanceSum = 0\n",
    "\n",
    "    for index in range(len(leftList)):\n",
    "        distanceSum += abs(leftList[index] - rightList[index])\n",
    "\n",
    "    print(distanceSum)"
   ]
  },
  {
   "cell_type": "markdown",
   "metadata": {},
   "source": [
    "PART TWO: What is the similarity score of the two lists?"
   ]
  },
  {
   "cell_type": "code",
   "execution_count": 4,
   "metadata": {},
   "outputs": [
    {
     "name": "stdout",
     "output_type": "stream",
     "text": [
      "23046913\n"
     ]
    }
   ],
   "source": [
    "with open(\"input.txt\", \"r+\") as f:\n",
    "    leftList = []\n",
    "    rightList = []\n",
    "\n",
    "    for line in f:\n",
    "        rowDetails = line.split(\"  \")\n",
    "        leftList.append(int(rowDetails[0]))\n",
    "        rightList.append(int(rowDetails[1]))\n",
    "\n",
    "    leftSet = set(leftList)\n",
    "    idDict = {}\n",
    "\n",
    "    for locationId in leftSet:\n",
    "        idDict[locationId] = rightList.count(locationId)\n",
    "\n",
    "    similarityScore = 0\n",
    "\n",
    "    for id in leftList:\n",
    "        similarityScore += id * idDict[id]\n",
    "\n",
    "    print(similarityScore)"
   ]
  }
 ],
 "metadata": {
  "kernelspec": {
   "display_name": "Python 3",
   "language": "python",
   "name": "python3"
  },
  "language_info": {
   "codemirror_mode": {
    "name": "ipython",
    "version": 3
   },
   "file_extension": ".py",
   "mimetype": "text/x-python",
   "name": "python",
   "nbconvert_exporter": "python",
   "pygments_lexer": "ipython3",
   "version": "3.12.4"
  }
 },
 "nbformat": 4,
 "nbformat_minor": 2
}
