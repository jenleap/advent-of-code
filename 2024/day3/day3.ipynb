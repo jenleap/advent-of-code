{
 "cells": [
  {
   "cell_type": "markdown",
   "metadata": {},
   "source": [
    "PART ONE: What do you get if you add up all of the results of the multiplications?"
   ]
  },
  {
   "cell_type": "code",
   "execution_count": 22,
   "metadata": {},
   "outputs": [
    {
     "name": "stdout",
     "output_type": "stream",
     "text": [
      "166357705\n"
     ]
    }
   ],
   "source": [
    "import re\n",
    "\n",
    "with open(\"input.txt\", \"r+\") as f:\n",
    "    textStr = f.read()\n",
    "    total = 0\n",
    "    pattern = r\"mul\\((-?\\d+),\\s*(-?\\d+)\\)\"\n",
    "    matches = re.findall(pattern, textStr)\n",
    "    for pair in matches:\n",
    "        total += int(pair[0]) * int(pair[1])\n",
    "\n",
    "print(total)"
   ]
  },
  {
   "cell_type": "markdown",
   "metadata": {},
   "source": [
    "PART TWO: What do you get if you add up all of the results of just the enabled multiplications?"
   ]
  },
  {
   "cell_type": "code",
   "execution_count": 40,
   "metadata": {},
   "outputs": [
    {
     "name": "stdout",
     "output_type": "stream",
     "text": [
      "88811886\n"
     ]
    }
   ],
   "source": [
    "import re\n",
    "\n",
    "with open(\"input.txt\", \"r+\") as f:\n",
    "    textStr = f.read()\n",
    "    total = 0\n",
    "    pattern = r\"(mul|do|don't)\\((\\d+)?,?(\\d+)?\\)\"\n",
    "    matches = re.findall(pattern, textStr)\n",
    "    enabled = True\n",
    "    for pair in matches:\n",
    "        if pair[0] == \"mul\" and enabled:\n",
    "            total += int(pair[1]) * int(pair[2])\n",
    "        elif pair[0] == \"don't\":\n",
    "            enabled = False\n",
    "        elif pair[0] == \"do\":\n",
    "            enabled = True\n",
    "\n",
    "print(total)"
   ]
  }
 ],
 "metadata": {
  "kernelspec": {
   "display_name": "Python 3",
   "language": "python",
   "name": "python3"
  },
  "language_info": {
   "codemirror_mode": {
    "name": "ipython",
    "version": 3
   },
   "file_extension": ".py",
   "mimetype": "text/x-python",
   "name": "python",
   "nbconvert_exporter": "python",
   "pygments_lexer": "ipython3",
   "version": "3.12.4"
  }
 },
 "nbformat": 4,
 "nbformat_minor": 2
}
